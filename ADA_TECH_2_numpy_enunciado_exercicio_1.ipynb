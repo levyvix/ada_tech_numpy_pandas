{
 "cells": [
  {
   "cell_type": "markdown",
   "metadata": {},
   "source": [
    "<img src='letscodebr_cover.jpeg' align='left' width=100%/>"
   ]
  },
  {
   "cell_type": "markdown",
   "metadata": {},
   "source": [
    "# Ada Tech [DS-PY-004] Técnicas de Programação I (PY) Aula 2 : Numpy - Enunciado do Exercício 1."
   ]
  },
  {
   "cell_type": "markdown",
   "metadata": {},
   "source": [
    "A ideia dessa prática é exercitar os pontos de que vamos precisar para resolver o desafio. Usaremos um resumo do conjunto de dados [Kaggle](https://www.kaggle.com/kyanyoga/sample-sales-data) que contém dados de vendas:"
   ]
  },
  {
   "cell_type": "markdown",
   "metadata": {},
   "source": [
    "## Exercício 1\n",
    "\n",
    "Leia os dados do arquivo `../Data/sales_data_sample_excercise.csv`, que contém alguns dados numéricos e alguns tipos de `string` de caracteres. A amostra contém dados de vendas, informações do pedido, vendas, cliente, remessa, etc., usados para segmentação, análise do cliente, clustering e outros. \n",
    "\n",
    "\n",
    "As colunas são:\n",
    "\n",
    "* `ORDERNUMBER`: `int`, id da orden de pedido\n",
    "\n",
    "* `SALES`: `float`, quantia paga\n",
    "\n",
    "* `MONTH_ID`: `int`, mês\n",
    "\n",
    "* `YEAR_ID`: `int`, ano\n",
    "\n",
    "* `PRODUCTLINE`: `str`, produto\n",
    "\n",
    "* `COUNTRY`: `str`, país de venda\n",
    "\n",
    "Lembre-se de que todos os elementos de uma instância `ndarray` devem ser do mesmo tipo. Portanto, vamos ler o arquivo e criar uma instância de `ndarray` do tipo `string`.\n",
    "\n",
    "O que aconteceria se tentássemos criar uma instância do tipo `int`? E do tipo `float`?"
   ]
  },
  {
   "cell_type": "code",
   "execution_count": 1,
   "metadata": {},
   "outputs": [],
   "source": [
    "import numpy as np\n",
    "\n",
    "# local:\n",
    "data_location = \"Data/sales_data_sample_excercise.csv\"\n"
   ]
  },
  {
   "cell_type": "code",
   "execution_count": 2,
   "metadata": {},
   "outputs": [],
   "source": [
    "# read csv\n",
    "data = np.genfromtxt(\n",
    "    data_location, delimiter=\"\\t\", dtype=str, encoding=\"utf-8\", skip_header=1\n",
    ")\n"
   ]
  },
  {
   "cell_type": "markdown",
   "metadata": {},
   "source": [
    "# Exercício 2 - Tipos\n",
    "\n",
    "Crie um arranjo de [tipo](https://docs.scipy.org/doc/numpy/reference/generated/numpy.ndarray.astype.html) numérico `float` que tenha a coluna `SALES` como valores e outro arranjo de tipo caracteres `str` que tenha a coluna `COUNTRY` como valores."
   ]
  },
  {
   "cell_type": "code",
   "execution_count": 3,
   "metadata": {},
   "outputs": [],
   "source": [
    "order_id = data[:, 0].astype(int)\n",
    "sales = data[:, 1].astype(float)\n",
    "month_id = data[:, 2].astype(int)\n",
    "year_id = data[:, 3].astype(int)\n",
    "product_line = data[:, 4].astype(str)\n",
    "country = data[:, 5].astype(str)"
   ]
  },
  {
   "cell_type": "markdown",
   "metadata": {},
   "source": [
    "## Exercício 3 - Funções de agregação\n",
    "\n",
    "Sobre os dados de preço de venda, na coluna `SALES`, calcule os valores [estatísticos](https://numpy.org/doc/stable/reference/routines.statistics.html):\n",
    "\n",
    "* Mínimo\n",
    "\n",
    "* Máximo\n",
    "\n",
    "* Média\n",
    "\n",
    "* Quantidade\n",
    "\n",
    "* soma"
   ]
  },
  {
   "cell_type": "code",
   "execution_count": 14,
   "metadata": {},
   "outputs": [
    {
     "data": {
      "text/plain": [
       "array([2871.  , 2765.9 , 3884.34, ..., 5417.57, 2116.16, 3079.44])"
      ]
     },
     "execution_count": 14,
     "metadata": {},
     "output_type": "execute_result"
    }
   ],
   "source": [
    "sales"
   ]
  },
  {
   "cell_type": "code",
   "execution_count": 15,
   "metadata": {},
   "outputs": [
    {
     "name": "stdout",
     "output_type": "stream",
     "text": [
      "soma:  10032628.85\n",
      "média:  3553.889071909316\n",
      "mínimo:  482.13\n",
      "máximo:  14082.8\n"
     ]
    }
   ],
   "source": [
    "print(\"soma: \", np.sum(sales))\n",
    "print(\"média: \", np.mean(sales))\n",
    "print(\"mínimo: \", np.min(sales))\n",
    "print(\"máximo: \", np.max(sales))"
   ]
  },
  {
   "cell_type": "markdown",
   "metadata": {},
   "source": [
    "## Exercício 4 - Indexing\n",
    "\n",
    "a) Quantas vendas foram realizadas nos EUA?.\n",
    "\n",
    "Dica: indexação booleana.\n",
    "\n",
    "b) Quais são os preços das $5$ vendas que estão nas linhas $6$ a $10$ do conjunto de dados?\n",
    "\n",
    "Vamos resolver usando o fatiamento (sliceing) do arranjo e a indexação sofisticada ([fancy indexing](https://docs.python.org/3/library/functions.html#func-range))."
   ]
  },
  {
   "cell_type": "code",
   "execution_count": 16,
   "metadata": {},
   "outputs": [
    {
     "data": {
      "text/plain": [
       "1004"
      ]
     },
     "execution_count": 16,
     "metadata": {},
     "output_type": "execute_result"
    }
   ],
   "source": [
    "np.sum(country == \"USA\")"
   ]
  },
  {
   "cell_type": "code",
   "execution_count": 17,
   "metadata": {},
   "outputs": [
    {
     "data": {
      "text/plain": [
       "array([2497.77, 5512.32, 2168.54, 4708.44, 3965.66])"
      ]
     },
     "execution_count": 17,
     "metadata": {},
     "output_type": "execute_result"
    }
   ],
   "source": [
    "sales[6:11]"
   ]
  },
  {
   "cell_type": "code",
   "execution_count": 18,
   "metadata": {},
   "outputs": [
    {
     "ename": "ValueError",
     "evalue": "either both or neither of x and y should be given",
     "output_type": "error",
     "traceback": [
      "\u001b[1;31m---------------------------------------------------------------------------\u001b[0m",
      "\u001b[1;31mValueError\u001b[0m                                Traceback (most recent call last)",
      "Cell \u001b[1;32mIn[18], line 1\u001b[0m\n\u001b[1;32m----> 1\u001b[0m \u001b[43mnp\u001b[49m\u001b[38;5;241;43m.\u001b[39;49m\u001b[43mwhere\u001b[49m\u001b[43m(\u001b[49m\u001b[43mcountry\u001b[49m\u001b[43m \u001b[49m\u001b[38;5;241;43m==\u001b[39;49m\u001b[43m \u001b[49m\u001b[38;5;124;43m\"\u001b[39;49m\u001b[38;5;124;43mUSA\u001b[39;49m\u001b[38;5;124;43m\"\u001b[39;49m\u001b[43m,\u001b[49m\u001b[43m \u001b[49m\u001b[43msales\u001b[49m\u001b[43m)\u001b[49m\n",
      "\u001b[1;31mValueError\u001b[0m: either both or neither of x and y should be given"
     ]
    }
   ],
   "source": [
    "np.where(country == \"USA\", sales)"
   ]
  }
 ],
 "metadata": {
  "kernelspec": {
   "display_name": "Python 3",
   "language": "python",
   "name": "python3"
  },
  "language_info": {
   "codemirror_mode": {
    "name": "ipython",
    "version": 3
   },
   "file_extension": ".py",
   "mimetype": "text/x-python",
   "name": "python",
   "nbconvert_exporter": "python",
   "pygments_lexer": "ipython3",
   "version": "3.11.8"
  }
 },
 "nbformat": 4,
 "nbformat_minor": 4
}
