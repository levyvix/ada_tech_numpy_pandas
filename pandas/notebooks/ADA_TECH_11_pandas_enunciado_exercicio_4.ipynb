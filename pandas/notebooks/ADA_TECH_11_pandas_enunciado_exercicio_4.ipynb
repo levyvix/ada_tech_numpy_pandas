{
 "cells": [
  {
   "cell_type": "markdown",
   "metadata": {},
   "source": [
    "<img src='letscodebr_cover.jpeg' align='left' width=100%/>"
   ]
  },
  {
   "cell_type": "markdown",
   "metadata": {},
   "source": [
    "# Ada Tech [DS-PY-004] Técnicas de Programação I (PY) Aulas 4 e 5 : Pandas - Resolução do Exercício 4."
   ]
  },
  {
   "cell_type": "markdown",
   "metadata": {},
   "source": [
    "# Prática adicional sobre joins com pandas\n",
    "\n",
    "Vamos trabalhar com um conjunto de dados [Coupon Redemption_SMOTE_ Feature Selection](https://www.kaggle.com/vasudeva009/coupon-redemption-smote-feature-selection/data) de campanha de marketing. É representado por um conjunto de tabelas relacionais:\n",
    "\n",
    "* train: relaciona o id do consumidor, cupons de desconto, campanha de marketing e contém a variável de destino 'redemption_status', que informa se o cupom foi resgatado ou não.\n",
    "\n",
    "* campaign_data: data de início e término da campanha e tipo de campanha\n",
    "\n",
    "* customer_demographics: faixa etária, estado civil, tamanho da família, número de filhos, nível de renda, proprietário / inquilino / hipoteca\n",
    "\n",
    "* coupon_item_mapping: cada cupom oferece benefícios em diferentes itens\n",
    "\n",
    "* item_data: marca, tipo de marca e categoria do item\n",
    "\n",
    "* customer_transaction_data: dados sobre compras feitas pelos consumidores. Não sabemos em qual compra utilizaram o cupom de desconto, talvez a promoção funcione para mais de uma compra.\n",
    "\n",
    "<img src='img/Schema.png' align='center' width=40%/>"
   ]
  },
  {
   "cell_type": "code",
   "execution_count": 4,
   "metadata": {},
   "outputs": [
    {
     "name": "stdout",
     "output_type": "stream",
     "text": [
      "Collecting scikit-learn\n",
      "  Downloading scikit_learn-1.4.1.post1-cp311-cp311-win_amd64.whl.metadata (11 kB)\n",
      "Requirement already satisfied: numpy<2.0,>=1.19.5 in c:\\users\\levyv\\desktop\\proj\\ada_tech_ds_py_004\\.venv\\lib\\site-packages (from scikit-learn) (1.26.4)\n",
      "Requirement already satisfied: scipy>=1.6.0 in c:\\users\\levyv\\desktop\\proj\\ada_tech_ds_py_004\\.venv\\lib\\site-packages (from scikit-learn) (1.12.0)\n",
      "Collecting joblib>=1.2.0 (from scikit-learn)\n",
      "  Downloading joblib-1.3.2-py3-none-any.whl.metadata (5.4 kB)\n",
      "Collecting threadpoolctl>=2.0.0 (from scikit-learn)\n",
      "  Downloading threadpoolctl-3.3.0-py3-none-any.whl.metadata (13 kB)\n",
      "Downloading scikit_learn-1.4.1.post1-cp311-cp311-win_amd64.whl (10.6 MB)\n",
      "   ---------------------------------------- 0.0/10.6 MB ? eta -:--:--\n",
      "   ---------------------------------------- 0.0/10.6 MB 991.0 kB/s eta 0:00:11\n",
      "   - -------------------------------------- 0.4/10.6 MB 4.5 MB/s eta 0:00:03\n",
      "   --- ------------------------------------ 0.9/10.6 MB 7.2 MB/s eta 0:00:02\n",
      "   ----- ---------------------------------- 1.5/10.6 MB 8.4 MB/s eta 0:00:02\n",
      "   ------- -------------------------------- 2.0/10.6 MB 9.2 MB/s eta 0:00:01\n",
      "   --------- ------------------------------ 2.6/10.6 MB 9.6 MB/s eta 0:00:01\n",
      "   ----------- ---------------------------- 3.1/10.6 MB 9.7 MB/s eta 0:00:01\n",
      "   ------------- -------------------------- 3.6/10.6 MB 10.1 MB/s eta 0:00:01\n",
      "   --------------- ------------------------ 4.2/10.6 MB 10.4 MB/s eta 0:00:01\n",
      "   ----------------- ---------------------- 4.8/10.6 MB 10.5 MB/s eta 0:00:01\n",
      "   ----------------- ---------------------- 4.8/10.6 MB 10.5 MB/s eta 0:00:01\n",
      "   ----------------- ---------------------- 4.8/10.6 MB 10.5 MB/s eta 0:00:01\n",
      "   ----------------- ---------------------- 4.8/10.6 MB 10.5 MB/s eta 0:00:01\n",
      "   ------------------ --------------------- 5.0/10.6 MB 7.9 MB/s eta 0:00:01\n",
      "   -------------------- ------------------- 5.5/10.6 MB 7.9 MB/s eta 0:00:01\n",
      "   ---------------------- ----------------- 6.0/10.6 MB 8.1 MB/s eta 0:00:01\n",
      "   ------------------------ --------------- 6.5/10.6 MB 8.3 MB/s eta 0:00:01\n",
      "   -------------------------- ------------- 7.0/10.6 MB 8.5 MB/s eta 0:00:01\n",
      "   -------------------------- ------------- 7.1/10.6 MB 8.1 MB/s eta 0:00:01\n",
      "   --------------------------- ------------ 7.2/10.6 MB 7.8 MB/s eta 0:00:01\n",
      "   --------------------------- ------------ 7.3/10.6 MB 7.5 MB/s eta 0:00:01\n",
      "   --------------------------- ------------ 7.4/10.6 MB 7.3 MB/s eta 0:00:01\n",
      "   --------------------------- ------------ 7.4/10.6 MB 7.0 MB/s eta 0:00:01\n",
      "   ---------------------------- ----------- 7.5/10.6 MB 6.8 MB/s eta 0:00:01\n",
      "   ---------------------------- ----------- 7.5/10.6 MB 6.8 MB/s eta 0:00:01\n",
      "   ----------------------------- ---------- 8.0/10.6 MB 6.6 MB/s eta 0:00:01\n",
      "   ------------------------------- -------- 8.3/10.6 MB 6.7 MB/s eta 0:00:01\n",
      "   --------------------------------- ------ 8.8/10.6 MB 6.8 MB/s eta 0:00:01\n",
      "   ----------------------------------- ---- 9.5/10.6 MB 7.0 MB/s eta 0:00:01\n",
      "   ----------------------------------- ---- 9.5/10.6 MB 6.8 MB/s eta 0:00:01\n",
      "   ----------------------------------- ---- 9.5/10.6 MB 6.8 MB/s eta 0:00:01\n",
      "   ------------------------------------ --- 9.6/10.6 MB 6.5 MB/s eta 0:00:01\n",
      "   ------------------------------------ --- 9.8/10.6 MB 6.4 MB/s eta 0:00:01\n",
      "   ------------------------------------- -- 9.9/10.6 MB 6.2 MB/s eta 0:00:01\n",
      "   ------------------------------------- -- 10.0/10.6 MB 6.2 MB/s eta 0:00:01\n",
      "   -------------------------------------- - 10.2/10.6 MB 6.1 MB/s eta 0:00:01\n",
      "   ---------------------------------------  10.4/10.6 MB 6.2 MB/s eta 0:00:01\n",
      "   ---------------------------------------  10.6/10.6 MB 6.1 MB/s eta 0:00:01\n",
      "   ---------------------------------------  10.6/10.6 MB 5.9 MB/s eta 0:00:01\n",
      "   ---------------------------------------  10.6/10.6 MB 5.8 MB/s eta 0:00:01\n",
      "   ---------------------------------------  10.6/10.6 MB 5.7 MB/s eta 0:00:01\n",
      "   ---------------------------------------  10.6/10.6 MB 5.7 MB/s eta 0:00:01\n",
      "   ---------------------------------------- 10.6/10.6 MB 5.4 MB/s eta 0:00:00\n",
      "Downloading joblib-1.3.2-py3-none-any.whl (302 kB)\n",
      "   ---------------------------------------- 0.0/302.2 kB ? eta -:--:--\n",
      "   ---------------------------------------- 302.2/302.2 kB 9.4 MB/s eta 0:00:00\n",
      "Downloading threadpoolctl-3.3.0-py3-none-any.whl (17 kB)\n",
      "Installing collected packages: threadpoolctl, joblib, scikit-learn\n",
      "Successfully installed joblib-1.3.2 scikit-learn-1.4.1.post1 threadpoolctl-3.3.0\n"
     ]
    },
    {
     "name": "stderr",
     "output_type": "stream",
     "text": [
      "\n",
      "[notice] A new release of pip is available: 23.3.1 -> 24.0\n",
      "[notice] To update, run: python.exe -m pip install --upgrade pip\n"
     ]
    }
   ],
   "source": [
    "!pip install scikit-learn"
   ]
  },
  {
   "cell_type": "code",
   "execution_count": 5,
   "metadata": {},
   "outputs": [],
   "source": [
    "import pandas as pd\n",
    "from sklearn.impute import SimpleImputer"
   ]
  },
  {
   "cell_type": "code",
   "execution_count": 2,
   "metadata": {},
   "outputs": [],
   "source": [
    "train = pd.read_csv(\"../data/train.csv\")\n",
    "cust_dem = pd.read_csv(\"../data/customer_demographics.csv\")\n",
    "trans = pd.read_csv(\"../data/customer_transaction_data.csv\")\n",
    "coupon_item = pd.read_csv(\"../data/coupon_item_mapping.csv\")\n",
    "item_data = pd.read_csv(\"../data/item_data.csv\")\n",
    "campaign_data = pd.read_csv(\"../data/campaign_data.csv\")"
   ]
  },
  {
   "cell_type": "markdown",
   "metadata": {},
   "source": [
    "## Exercício 1 - Train dataframe"
   ]
  },
  {
   "cell_type": "markdown",
   "metadata": {},
   "source": [
    "* Olhe para o dataframe e verifique se há valores nulos."
   ]
  },
  {
   "cell_type": "code",
   "execution_count": 3,
   "metadata": {},
   "outputs": [
    {
     "data": {
      "text/plain": [
       "id                   0\n",
       "campaign_id          0\n",
       "coupon_id            0\n",
       "customer_id          0\n",
       "redemption_status    0\n",
       "dtype: int64"
      ]
     },
     "execution_count": 3,
     "metadata": {},
     "output_type": "execute_result"
    }
   ],
   "source": [
    "train.isna().sum()"
   ]
  },
  {
   "cell_type": "markdown",
   "metadata": {},
   "source": [
    "## Exercício 2 - Customer demographics dataframe\n",
    "\n",
    "* Verifique se há nulos\n",
    "* Olhe para os dtypes\n",
    "* Impute valores nulos a partir do valor modal de cada coluna\n",
    "* Traga as colunas de variáveis categóricas para o dtype 'category'"
   ]
  },
  {
   "cell_type": "code",
   "execution_count": 6,
   "metadata": {},
   "outputs": [
    {
     "data": {
      "text/plain": [
       "customer_id         0\n",
       "age_range           0\n",
       "marital_status    329\n",
       "rented              0\n",
       "family_size         0\n",
       "no_of_children    538\n",
       "income_bracket      0\n",
       "dtype: int64"
      ]
     },
     "execution_count": 6,
     "metadata": {},
     "output_type": "execute_result"
    }
   ],
   "source": [
    "cust_dem.isna().sum()\n"
   ]
  },
  {
   "cell_type": "code",
   "execution_count": 17,
   "metadata": {},
   "outputs": [
    {
     "data": {
      "text/plain": [
       "no_of_children\n",
       "1     645\n",
       "3+     60\n",
       "2      55\n",
       "Name: count, dtype: int64"
      ]
     },
     "execution_count": 17,
     "metadata": {},
     "output_type": "execute_result"
    }
   ],
   "source": [
    "cust_dem.no_of_children.value_counts()"
   ]
  },
  {
   "cell_type": "code",
   "execution_count": 18,
   "metadata": {},
   "outputs": [
    {
     "name": "stdout",
     "output_type": "stream",
     "text": [
      "customer_id       object\n",
      "age_range         object\n",
      "marital_status    object\n",
      "rented            object\n",
      "family_size       object\n",
      "no_of_children    object\n",
      "income_bracket    object\n",
      "dtype: object\n"
     ]
    },
    {
     "data": {
      "text/html": [
       "<div>\n",
       "<style scoped>\n",
       "    .dataframe tbody tr th:only-of-type {\n",
       "        vertical-align: middle;\n",
       "    }\n",
       "\n",
       "    .dataframe tbody tr th {\n",
       "        vertical-align: top;\n",
       "    }\n",
       "\n",
       "    .dataframe thead th {\n",
       "        text-align: right;\n",
       "    }\n",
       "</style>\n",
       "<table border=\"1\" class=\"dataframe\">\n",
       "  <thead>\n",
       "    <tr style=\"text-align: right;\">\n",
       "      <th></th>\n",
       "      <th>customer_id</th>\n",
       "      <th>age_range</th>\n",
       "      <th>marital_status</th>\n",
       "      <th>rented</th>\n",
       "      <th>family_size</th>\n",
       "      <th>no_of_children</th>\n",
       "      <th>income_bracket</th>\n",
       "    </tr>\n",
       "  </thead>\n",
       "  <tbody>\n",
       "    <tr>\n",
       "      <th>0</th>\n",
       "      <td>1</td>\n",
       "      <td>70+</td>\n",
       "      <td>Married</td>\n",
       "      <td>0</td>\n",
       "      <td>2</td>\n",
       "      <td>1</td>\n",
       "      <td>4</td>\n",
       "    </tr>\n",
       "    <tr>\n",
       "      <th>1</th>\n",
       "      <td>6</td>\n",
       "      <td>46-55</td>\n",
       "      <td>Married</td>\n",
       "      <td>0</td>\n",
       "      <td>2</td>\n",
       "      <td>1</td>\n",
       "      <td>5</td>\n",
       "    </tr>\n",
       "    <tr>\n",
       "      <th>2</th>\n",
       "      <td>7</td>\n",
       "      <td>26-35</td>\n",
       "      <td>Married</td>\n",
       "      <td>0</td>\n",
       "      <td>3</td>\n",
       "      <td>1</td>\n",
       "      <td>3</td>\n",
       "    </tr>\n",
       "    <tr>\n",
       "      <th>3</th>\n",
       "      <td>8</td>\n",
       "      <td>26-35</td>\n",
       "      <td>Married</td>\n",
       "      <td>0</td>\n",
       "      <td>4</td>\n",
       "      <td>2</td>\n",
       "      <td>6</td>\n",
       "    </tr>\n",
       "    <tr>\n",
       "      <th>4</th>\n",
       "      <td>10</td>\n",
       "      <td>46-55</td>\n",
       "      <td>Single</td>\n",
       "      <td>0</td>\n",
       "      <td>1</td>\n",
       "      <td>1</td>\n",
       "      <td>5</td>\n",
       "    </tr>\n",
       "    <tr>\n",
       "      <th>...</th>\n",
       "      <td>...</td>\n",
       "      <td>...</td>\n",
       "      <td>...</td>\n",
       "      <td>...</td>\n",
       "      <td>...</td>\n",
       "      <td>...</td>\n",
       "      <td>...</td>\n",
       "    </tr>\n",
       "    <tr>\n",
       "      <th>755</th>\n",
       "      <td>1577</td>\n",
       "      <td>36-45</td>\n",
       "      <td>Married</td>\n",
       "      <td>0</td>\n",
       "      <td>2</td>\n",
       "      <td>1</td>\n",
       "      <td>5</td>\n",
       "    </tr>\n",
       "    <tr>\n",
       "      <th>756</th>\n",
       "      <td>1578</td>\n",
       "      <td>46-55</td>\n",
       "      <td>Married</td>\n",
       "      <td>0</td>\n",
       "      <td>3</td>\n",
       "      <td>1</td>\n",
       "      <td>6</td>\n",
       "    </tr>\n",
       "    <tr>\n",
       "      <th>757</th>\n",
       "      <td>1579</td>\n",
       "      <td>46-55</td>\n",
       "      <td>Married</td>\n",
       "      <td>0</td>\n",
       "      <td>1</td>\n",
       "      <td>1</td>\n",
       "      <td>4</td>\n",
       "    </tr>\n",
       "    <tr>\n",
       "      <th>758</th>\n",
       "      <td>1580</td>\n",
       "      <td>26-35</td>\n",
       "      <td>Married</td>\n",
       "      <td>0</td>\n",
       "      <td>2</td>\n",
       "      <td>1</td>\n",
       "      <td>5</td>\n",
       "    </tr>\n",
       "    <tr>\n",
       "      <th>759</th>\n",
       "      <td>1581</td>\n",
       "      <td>26-35</td>\n",
       "      <td>Married</td>\n",
       "      <td>0</td>\n",
       "      <td>3</td>\n",
       "      <td>1</td>\n",
       "      <td>1</td>\n",
       "    </tr>\n",
       "  </tbody>\n",
       "</table>\n",
       "<p>760 rows × 7 columns</p>\n",
       "</div>"
      ],
      "text/plain": [
       "    customer_id age_range marital_status rented family_size no_of_children  \\\n",
       "0             1       70+        Married      0           2              1   \n",
       "1             6     46-55        Married      0           2              1   \n",
       "2             7     26-35        Married      0           3              1   \n",
       "3             8     26-35        Married      0           4              2   \n",
       "4            10     46-55         Single      0           1              1   \n",
       "..          ...       ...            ...    ...         ...            ...   \n",
       "755        1577     36-45        Married      0           2              1   \n",
       "756        1578     46-55        Married      0           3              1   \n",
       "757        1579     46-55        Married      0           1              1   \n",
       "758        1580     26-35        Married      0           2              1   \n",
       "759        1581     26-35        Married      0           3              1   \n",
       "\n",
       "    income_bracket  \n",
       "0                4  \n",
       "1                5  \n",
       "2                3  \n",
       "3                6  \n",
       "4                5  \n",
       "..             ...  \n",
       "755              5  \n",
       "756              6  \n",
       "757              4  \n",
       "758              5  \n",
       "759              1  \n",
       "\n",
       "[760 rows x 7 columns]"
      ]
     },
     "execution_count": 18,
     "metadata": {},
     "output_type": "execute_result"
    }
   ],
   "source": [
    "\n",
    "print(cust_dem.dtypes)\n",
    "\n",
    "imputer = SimpleImputer(strategy='most_frequent')\n",
    "\n",
    "cust_dem = pd.DataFrame(imputer.fit_transform(cust_dem), columns=cust_dem.columns)\n",
    "\n",
    "cust_dem_clean = (\n",
    "\tcust_dem\n",
    "\t.assign(\n",
    "\t\tage_range = lambda d: d['age_range'].astype('category'),\n",
    "\t\tmarital_status = lambda d: d['marital_status'].astype('category'),\n",
    "\t\trented = lambda d: d['rented'].astype('category'),\n",
    "\t\tfamily_size = lambda d: d['family_size'].astype('category'),\n",
    "\t\tno_of_children = lambda d: d['no_of_children'].astype('category'),\n",
    "\t\tincome_bracket = lambda d: d['income_bracket'].astype('category')  \n",
    "\t)\n",
    ")\n",
    "\n",
    "cust_dem_clean"
   ]
  },
  {
   "cell_type": "code",
   "execution_count": null,
   "metadata": {},
   "outputs": [],
   "source": []
  },
  {
   "cell_type": "markdown",
   "metadata": {},
   "source": [
    "## Exercício 3 - Transactions dataframe\n",
    "\n",
    "* Verifique se há nulos\n",
    "* Veja os dtypes\n",
    "* Remova a coluna `dates`"
   ]
  },
  {
   "cell_type": "code",
   "execution_count": 20,
   "metadata": {},
   "outputs": [
    {
     "name": "stdout",
     "output_type": "stream",
     "text": [
      "date               0\n",
      "customer_id        0\n",
      "item_id            0\n",
      "quantity           0\n",
      "selling_price      0\n",
      "other_discount     0\n",
      "coupon_discount    0\n",
      "dtype: int64\n",
      "date                object\n",
      "customer_id          int64\n",
      "item_id              int64\n",
      "quantity             int64\n",
      "selling_price      float64\n",
      "other_discount     float64\n",
      "coupon_discount    float64\n",
      "dtype: object\n"
     ]
    }
   ],
   "source": [
    "print(trans.isna().sum())\n",
    "\n",
    "print(trans.dtypes)\n",
    "\n",
    "trans = trans.drop(columns=['date'])"
   ]
  },
  {
   "cell_type": "code",
   "execution_count": null,
   "metadata": {},
   "outputs": [],
   "source": []
  },
  {
   "cell_type": "code",
   "execution_count": null,
   "metadata": {},
   "outputs": [],
   "source": []
  },
  {
   "cell_type": "markdown",
   "metadata": {},
   "source": [
    "## Exercício 4 - Coupon-Item dataframe\n",
    "* verifique se há dados nulos"
   ]
  },
  {
   "cell_type": "code",
   "execution_count": 21,
   "metadata": {},
   "outputs": [
    {
     "name": "stdout",
     "output_type": "stream",
     "text": [
      "coupon_id    0\n",
      "item_id      0\n",
      "dtype: int64\n"
     ]
    }
   ],
   "source": [
    "print(coupon_item.isna().sum())\n"
   ]
  },
  {
   "cell_type": "markdown",
   "metadata": {},
   "source": [
    "## Exercício 5 - Item dataframe\n",
    "\n",
    "* Verifique se há nulos\n",
    "* Converta colunas categóricas para o dtype `category`"
   ]
  },
  {
   "cell_type": "code",
   "execution_count": 23,
   "metadata": {},
   "outputs": [
    {
     "name": "stdout",
     "output_type": "stream",
     "text": [
      "item_id       0\n",
      "brand         0\n",
      "brand_type    0\n",
      "category      0\n",
      "dtype: int64\n",
      "item_id        int64\n",
      "brand          int64\n",
      "brand_type    object\n",
      "category      object\n",
      "dtype: object\n"
     ]
    }
   ],
   "source": [
    "print(item_data.isna().sum())\n",
    "\n",
    "print(item_data.dtypes)"
   ]
  },
  {
   "cell_type": "code",
   "execution_count": 24,
   "metadata": {},
   "outputs": [],
   "source": [
    "item_data = (\n",
    "\titem_data\n",
    "\t.assign(\n",
    "\t\tbrand_type = lambda d: d['brand_type'].astype('category'),\n",
    "\t\tcategory = lambda d: d['category'].astype('category')\n",
    "\t)\n",
    ")"
   ]
  },
  {
   "cell_type": "markdown",
   "metadata": {},
   "source": [
    "## Exercício 6 - Campaign dataframe\n",
    "* Verifique se há valores nulos.\n",
    "* Converta as colunas `start_date` e `end_date` para `TimeStamp`.\n",
    "* Calcule o período das promoções como `start_date` - `end_date`.\n",
    "* Remova `start_date` e `end_date`."
   ]
  },
  {
   "cell_type": "code",
   "execution_count": 25,
   "metadata": {},
   "outputs": [
    {
     "name": "stdout",
     "output_type": "stream",
     "text": [
      "campaign_id      0\n",
      "campaign_type    0\n",
      "start_date       0\n",
      "end_date         0\n",
      "dtype: int64\n"
     ]
    }
   ],
   "source": [
    "print(campaign_data.isna().sum())"
   ]
  },
  {
   "cell_type": "code",
   "execution_count": 27,
   "metadata": {},
   "outputs": [
    {
     "name": "stderr",
     "output_type": "stream",
     "text": [
      "C:\\Users\\levyv\\AppData\\Local\\Temp\\ipykernel_21200\\3588927993.py:4: UserWarning: Could not infer format, so each element will be parsed individually, falling back to `dateutil`. To ensure parsing is consistent and as-expected, please specify a format.\n",
      "  start_date = pd.to_datetime(campaign_data['start_date']),\n",
      "C:\\Users\\levyv\\AppData\\Local\\Temp\\ipykernel_21200\\3588927993.py:5: UserWarning: Could not infer format, so each element will be parsed individually, falling back to `dateutil`. To ensure parsing is consistent and as-expected, please specify a format.\n",
      "  end_date = pd.to_datetime(campaign_data['end_date']),\n"
     ]
    }
   ],
   "source": [
    "campaign_data = (\n",
    "\tcampaign_data\n",
    "\t.assign(\n",
    "\t\tstart_date = pd.to_datetime(campaign_data['start_date']),\n",
    "\t\tend_date = pd.to_datetime(campaign_data['end_date']),\n",
    "\t)\n",
    "\t.assign(\n",
    "\t\tduration = lambda d: (d['end_date'] - d['start_date']).dt.days\n",
    "\t)\n",
    "\t.drop(columns=['start_date', 'end_date'])\n",
    ")"
   ]
  },
  {
   "cell_type": "code",
   "execution_count": null,
   "metadata": {},
   "outputs": [],
   "source": []
  },
  {
   "cell_type": "markdown",
   "metadata": {},
   "source": [
    "## Exercício 7 - Merge Dataframes\n",
    "\n",
    "1. Faça um merge entre train e campaign_data. Qual coluna fica em `on`? Quais são os critérios em `how`?\n",
    "\n",
    "2. Combine o resultado do exercício $1$) com customer_demographics. Qual coluna fica em 'on'? Quais são os critérios em 'how'?\n",
    "\n",
    "3. Verifique os valores nulos obtidos em $2$.\n",
    "\n",
    "4. Imputamos os valores ausentes nas colunas demográficas. Para isso, amostramos com reposição da distribuição conjunta dos atributos demográficos observados.\n",
    "\n",
    "5. Merge com transações médias por assunto:\n",
    "\n",
    "* Faça um groupby por consumidor no dataframe da transação\n",
    "\n",
    "* Adicione o valor médio às variáveis contínuas (`selling_price`, `quantity`, etc)\n",
    "\n",
    "* merge com o DataFrame obtido em 4. Qual coluna fica em `on`? Qual critério entra em `how`?\n",
    "\n",
    "6. Merge com transações médias por item\n",
    "\n",
    "* a. Faça um agrupamento por item no dataframe da transação\n",
    "\n",
    "* b. Calcule o valor médio de variáveis contínuas\n",
    "\n",
    "* c. Faça um merge com o dataframe `coupon_item`\n",
    "\n",
    "* d. Faça um merge de c. com item_data. Qual coluna fica em `on`? Quais são os critérios em `how`?\n",
    "\n",
    "* e. Faça um agrupamento do dataframe d.: agrupando por `coupon_id`. Para cada grupo, calcule a moda das variáveis categóricas 'brand','brand_type,'category'.\n",
    "\n",
    "* f. Faça um agrupamento do dataframe d. agrupando por `coupon_id`. Para cada grupo, calcule a média das variáveis contínuas.\n",
    "\n",
    "* g. Faça uma fusão de d. com e. e então com f. Qual coluna fica em `on`? Quais são os critérios em `how`?\n",
    "\n",
    "7. Salve o dataframe resultante em um csv para prática de classe."
   ]
  },
  {
   "cell_type": "code",
   "execution_count": 28,
   "metadata": {},
   "outputs": [
    {
     "data": {
      "text/html": [
       "<div>\n",
       "<style scoped>\n",
       "    .dataframe tbody tr th:only-of-type {\n",
       "        vertical-align: middle;\n",
       "    }\n",
       "\n",
       "    .dataframe tbody tr th {\n",
       "        vertical-align: top;\n",
       "    }\n",
       "\n",
       "    .dataframe thead th {\n",
       "        text-align: right;\n",
       "    }\n",
       "</style>\n",
       "<table border=\"1\" class=\"dataframe\">\n",
       "  <thead>\n",
       "    <tr style=\"text-align: right;\">\n",
       "      <th></th>\n",
       "      <th>id</th>\n",
       "      <th>campaign_id</th>\n",
       "      <th>coupon_id</th>\n",
       "      <th>customer_id</th>\n",
       "      <th>redemption_status</th>\n",
       "    </tr>\n",
       "  </thead>\n",
       "  <tbody>\n",
       "    <tr>\n",
       "      <th>0</th>\n",
       "      <td>1</td>\n",
       "      <td>13</td>\n",
       "      <td>27</td>\n",
       "      <td>1053</td>\n",
       "      <td>0</td>\n",
       "    </tr>\n",
       "    <tr>\n",
       "      <th>1</th>\n",
       "      <td>2</td>\n",
       "      <td>13</td>\n",
       "      <td>116</td>\n",
       "      <td>48</td>\n",
       "      <td>0</td>\n",
       "    </tr>\n",
       "    <tr>\n",
       "      <th>2</th>\n",
       "      <td>6</td>\n",
       "      <td>9</td>\n",
       "      <td>635</td>\n",
       "      <td>205</td>\n",
       "      <td>0</td>\n",
       "    </tr>\n",
       "    <tr>\n",
       "      <th>3</th>\n",
       "      <td>7</td>\n",
       "      <td>13</td>\n",
       "      <td>644</td>\n",
       "      <td>1050</td>\n",
       "      <td>0</td>\n",
       "    </tr>\n",
       "    <tr>\n",
       "      <th>4</th>\n",
       "      <td>9</td>\n",
       "      <td>8</td>\n",
       "      <td>1017</td>\n",
       "      <td>1489</td>\n",
       "      <td>0</td>\n",
       "    </tr>\n",
       "  </tbody>\n",
       "</table>\n",
       "</div>"
      ],
      "text/plain": [
       "   id  campaign_id  coupon_id  customer_id  redemption_status\n",
       "0   1           13         27         1053                  0\n",
       "1   2           13        116           48                  0\n",
       "2   6            9        635          205                  0\n",
       "3   7           13        644         1050                  0\n",
       "4   9            8       1017         1489                  0"
      ]
     },
     "execution_count": 28,
     "metadata": {},
     "output_type": "execute_result"
    }
   ],
   "source": [
    "train.head()"
   ]
  },
  {
   "cell_type": "code",
   "execution_count": 30,
   "metadata": {},
   "outputs": [
    {
     "data": {
      "text/html": [
       "<div>\n",
       "<style scoped>\n",
       "    .dataframe tbody tr th:only-of-type {\n",
       "        vertical-align: middle;\n",
       "    }\n",
       "\n",
       "    .dataframe tbody tr th {\n",
       "        vertical-align: top;\n",
       "    }\n",
       "\n",
       "    .dataframe thead th {\n",
       "        text-align: right;\n",
       "    }\n",
       "</style>\n",
       "<table border=\"1\" class=\"dataframe\">\n",
       "  <thead>\n",
       "    <tr style=\"text-align: right;\">\n",
       "      <th></th>\n",
       "      <th>campaign_id</th>\n",
       "      <th>campaign_type</th>\n",
       "      <th>duration</th>\n",
       "    </tr>\n",
       "  </thead>\n",
       "  <tbody>\n",
       "    <tr>\n",
       "      <th>0</th>\n",
       "      <td>24</td>\n",
       "      <td>Y</td>\n",
       "      <td>60</td>\n",
       "    </tr>\n",
       "    <tr>\n",
       "      <th>1</th>\n",
       "      <td>25</td>\n",
       "      <td>Y</td>\n",
       "      <td>32</td>\n",
       "    </tr>\n",
       "    <tr>\n",
       "      <th>2</th>\n",
       "      <td>20</td>\n",
       "      <td>Y</td>\n",
       "      <td>130</td>\n",
       "    </tr>\n",
       "    <tr>\n",
       "      <th>3</th>\n",
       "      <td>23</td>\n",
       "      <td>Y</td>\n",
       "      <td>97</td>\n",
       "    </tr>\n",
       "    <tr>\n",
       "      <th>4</th>\n",
       "      <td>21</td>\n",
       "      <td>Y</td>\n",
       "      <td>32</td>\n",
       "    </tr>\n",
       "  </tbody>\n",
       "</table>\n",
       "</div>"
      ],
      "text/plain": [
       "   campaign_id campaign_type  duration\n",
       "0           24             Y        60\n",
       "1           25             Y        32\n",
       "2           20             Y       130\n",
       "3           23             Y        97\n",
       "4           21             Y        32"
      ]
     },
     "execution_count": 30,
     "metadata": {},
     "output_type": "execute_result"
    }
   ],
   "source": [
    "campaign_data.head()"
   ]
  },
  {
   "cell_type": "code",
   "execution_count": 33,
   "metadata": {},
   "outputs": [
    {
     "data": {
      "text/plain": [
       "id                       0\n",
       "campaign_id              0\n",
       "coupon_id                0\n",
       "customer_id              0\n",
       "redemption_status        0\n",
       "campaign_type            0\n",
       "duration                 0\n",
       "age_range            34708\n",
       "marital_status       34708\n",
       "rented               34708\n",
       "family_size          34708\n",
       "no_of_children       34708\n",
       "income_bracket       34708\n",
       "dtype: int64"
      ]
     },
     "execution_count": 33,
     "metadata": {},
     "output_type": "execute_result"
    }
   ],
   "source": [
    "(\n",
    "    train\n",
    "    .merge(campaign_data, on='campaign_id', how='left')\n",
    "\t.merge(cust_dem_clean, on='customer_id', how='left')\n",
    ").isna().sum()"
   ]
  },
  {
   "cell_type": "code",
   "execution_count": 34,
   "metadata": {},
   "outputs": [
    {
     "data": {
      "text/html": [
       "<div>\n",
       "<style scoped>\n",
       "    .dataframe tbody tr th:only-of-type {\n",
       "        vertical-align: middle;\n",
       "    }\n",
       "\n",
       "    .dataframe tbody tr th {\n",
       "        vertical-align: top;\n",
       "    }\n",
       "\n",
       "    .dataframe thead th {\n",
       "        text-align: right;\n",
       "    }\n",
       "</style>\n",
       "<table border=\"1\" class=\"dataframe\">\n",
       "  <thead>\n",
       "    <tr style=\"text-align: right;\">\n",
       "      <th></th>\n",
       "      <th>customer_id</th>\n",
       "      <th>item_id</th>\n",
       "      <th>quantity</th>\n",
       "      <th>selling_price</th>\n",
       "      <th>other_discount</th>\n",
       "      <th>coupon_discount</th>\n",
       "    </tr>\n",
       "  </thead>\n",
       "  <tbody>\n",
       "    <tr>\n",
       "      <th>0</th>\n",
       "      <td>1501</td>\n",
       "      <td>26830</td>\n",
       "      <td>1</td>\n",
       "      <td>35.26</td>\n",
       "      <td>-10.69</td>\n",
       "      <td>0.0</td>\n",
       "    </tr>\n",
       "    <tr>\n",
       "      <th>1</th>\n",
       "      <td>1501</td>\n",
       "      <td>54253</td>\n",
       "      <td>1</td>\n",
       "      <td>53.43</td>\n",
       "      <td>-13.89</td>\n",
       "      <td>0.0</td>\n",
       "    </tr>\n",
       "    <tr>\n",
       "      <th>2</th>\n",
       "      <td>1501</td>\n",
       "      <td>31962</td>\n",
       "      <td>1</td>\n",
       "      <td>106.50</td>\n",
       "      <td>-14.25</td>\n",
       "      <td>0.0</td>\n",
       "    </tr>\n",
       "    <tr>\n",
       "      <th>3</th>\n",
       "      <td>1501</td>\n",
       "      <td>33647</td>\n",
       "      <td>1</td>\n",
       "      <td>67.32</td>\n",
       "      <td>0.00</td>\n",
       "      <td>0.0</td>\n",
       "    </tr>\n",
       "    <tr>\n",
       "      <th>4</th>\n",
       "      <td>1501</td>\n",
       "      <td>48199</td>\n",
       "      <td>1</td>\n",
       "      <td>71.24</td>\n",
       "      <td>-28.14</td>\n",
       "      <td>0.0</td>\n",
       "    </tr>\n",
       "  </tbody>\n",
       "</table>\n",
       "</div>"
      ],
      "text/plain": [
       "   customer_id  item_id  quantity  selling_price  other_discount  \\\n",
       "0         1501    26830         1          35.26          -10.69   \n",
       "1         1501    54253         1          53.43          -13.89   \n",
       "2         1501    31962         1         106.50          -14.25   \n",
       "3         1501    33647         1          67.32            0.00   \n",
       "4         1501    48199         1          71.24          -28.14   \n",
       "\n",
       "   coupon_discount  \n",
       "0              0.0  \n",
       "1              0.0  \n",
       "2              0.0  \n",
       "3              0.0  \n",
       "4              0.0  "
      ]
     },
     "execution_count": 34,
     "metadata": {},
     "output_type": "execute_result"
    }
   ],
   "source": [
    "trans.head()"
   ]
  }
 ],
 "metadata": {
  "kernelspec": {
   "display_name": "Python 3",
   "language": "python",
   "name": "python3"
  },
  "language_info": {
   "codemirror_mode": {
    "name": "ipython",
    "version": 3
   },
   "file_extension": ".py",
   "mimetype": "text/x-python",
   "name": "python",
   "nbconvert_exporter": "python",
   "pygments_lexer": "ipython3",
   "version": "3.11.8"
  }
 },
 "nbformat": 4,
 "nbformat_minor": 4
}
