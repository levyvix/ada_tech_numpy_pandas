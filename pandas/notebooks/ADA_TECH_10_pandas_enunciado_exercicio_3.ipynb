{
 "cells": [
  {
   "cell_type": "markdown",
   "metadata": {},
   "source": [
    "<img src='letscodebr_cover.jpeg' align='left' width=100%/>"
   ]
  },
  {
   "cell_type": "markdown",
   "metadata": {},
   "source": [
    "# Ada Tech [DS-PY-004] Técnicas de Programação I (PY) Aulas 4 e 5 : Pandas - Enunciado do Exercício 3."
   ]
  },
  {
   "cell_type": "markdown",
   "metadata": {},
   "source": [
    "## Intro\n",
    "\n",
    "Nesta parte vimos alguns métodos do Pandas para calcular medidas por grupos.\n",
    "\n",
    "Para os exercícios, usaremos um conjunto de dados de propriedades à venda na Cidade de Buenos Aires em 2016 disponibilizado pelo GCBA.\n",
    "\n",
    "A ideia dessa prática é revisar alguns tópicos que vimos nas aulas anteriores e exercitar os diferentes métodos que vimos nesta prática e que vamos usar novamente em aulas futuras."
   ]
  },
  {
   "cell_type": "markdown",
   "metadata": {},
   "source": [
    "## Dataset\n",
    "\n",
    "O Governo da Cidade de Buenos Aires disponibiliza alguns [conjuntos de dados](https://data.buenosaires.gob.ar/) para acesso público\n",
    "\n",
    "Lá encontramos dados sobre [imóveis à venda](https://data.buenosaires.gob.ar/dataset/departamentos-venta), separados por ano.\n",
    "\n",
    "Nesta aula, vamos usar um subconjunto dos dados de [Apartamentos à venda 2016](https://data.buenosaires.gob.ar/dataset/departamentos-venta/archivo/juqdkmgo-7031-resource) que baixamos.\n",
    "\n",
    "Na pasta Dados desta aulas, já temos esse conjunto de dados baixado, o nome do arquivo é **departamentos-em-venda-2016.csv**."
   ]
  },
  {
   "cell_type": "markdown",
   "metadata": {},
   "source": [
    "## Imports"
   ]
  },
  {
   "cell_type": "code",
   "execution_count": 4,
   "metadata": {},
   "outputs": [],
   "source": [
    "import pandas as pd\n",
    "import numpy as np"
   ]
  },
  {
   "cell_type": "markdown",
   "metadata": {},
   "source": [
    "## Exercício 1  - Importar \n",
    "\n",
    "Vamos ler os dados do arquivo `departamentos-em-venda-2016.csv`.\n",
    "\n",
    "Vamos ver quantos registros você possui e quais são os tipos de dados em cada coluna.\n",
    "\n",
    "Vejamos os primeiros registros para verificar se os dados foram importados corretamente."
   ]
  },
  {
   "cell_type": "code",
   "execution_count": 5,
   "metadata": {},
   "outputs": [],
   "source": [
    "df = pd.read_csv(\"../data/departamentos-em-venda-2016.csv\", sep=\";\")"
   ]
  },
  {
   "cell_type": "markdown",
   "metadata": {},
   "source": [
    "## Exercício 2  - Limpeza\n",
    "\n",
    "Vamos criar uma nova coluna (PRECIOTEXT_CLEAN) do tipo numérico, que tem os valores em dólares que lemos no campo PRECIOTEXT, ou NaN se esses valores forem expressos em pesos.\n",
    "\n",
    "1) Crie um objeto Series que resulte da limpeza dos valores do campo PRECIOTEXT. Temos que remover os símbolos \"U\\\\$S\" e \".\"\n",
    "\n",
    "2) No caso da Series resultante do ponto 1) substituímos os valores em pesos ('\\\\$') por nulos.\n",
    "\n",
    "3) Crie uma nova coluna de tipo numérico no DataFrame (PRECIOTEXT_CLEAN) e atribua os valores de resultado de 2)"
   ]
  },
  {
   "cell_type": "code",
   "execution_count": 6,
   "metadata": {},
   "outputs": [],
   "source": [
    "df = df.assign(PRECIOTEXT_CLEAN=df[\"PRECIOTEXT\"].str.replace(\".\", \"\").str.extract(r\"(\\d+)\").astype(float))"
   ]
  },
  {
   "cell_type": "markdown",
   "metadata": {},
   "source": [
    "## Exercício 3  - Preço por metro quadrado em dólares\n",
    "\n",
    "Vamos criar uma coluna do tipo numérico (PRECIOTEXTM) que tem o preço do $m^{2}$ em dólares calculado como o valor de PRECIOTEXT_CLEAN / M2."
   ]
  },
  {
   "cell_type": "code",
   "execution_count": 7,
   "metadata": {},
   "outputs": [],
   "source": [
    "df = df.assign(PRECIOTEXTM=lambda d: d[\"PRECIOTEXT_CLEAN\"] / d[\"M2\"])"
   ]
  },
  {
   "cell_type": "markdown",
   "metadata": {},
   "source": [
    "## Exercício 4  - Preço médio por metro quadrado em dólares por bairro\n",
    "\n",
    "Vamos calcular o preço médio por metro quadrado em dólares por bairro usando `groupby` e `pivot_table`.\n",
    "\n",
    "Quais são os cinco bairros mais caros?"
   ]
  },
  {
   "cell_type": "code",
   "execution_count": 8,
   "metadata": {},
   "outputs": [
    {
     "data": {
      "text/plain": [
       "Index(['CALLE', 'NUMERO', 'ID_ZONAPRO', 'OPERACION', 'TIPO', 'M2', 'M2CUB',\n",
       "       'PRECIOTEXT', 'PRECIOARS', 'PRECIOARSM', 'DOLARES', 'U_S_M2',\n",
       "       'AMBIENTES', 'ANTIGUEDAD', 'BAÑOS', 'DIRECCION', 'LOCATION',\n",
       "       'PUBLICADO', 'PROCESADO', 'URL', 'REVISION', 'NOTA',\n",
       "       'DIRECCION_NORMALIZADA', 'BARRIO', 'COMUNA', 'CODIGO_POSTAL',\n",
       "       'CODIGO_POSTAL_ARGENTINO', 'LATITUD', 'LONGITUD', 'PRECIOTEXT_CLEAN',\n",
       "       'PRECIOTEXTM'],\n",
       "      dtype='object')"
      ]
     },
     "execution_count": 8,
     "metadata": {},
     "output_type": "execute_result"
    }
   ],
   "source": [
    "df.columns"
   ]
  },
  {
   "cell_type": "code",
   "execution_count": 10,
   "metadata": {},
   "outputs": [
    {
     "data": {
      "text/html": [
       "<div>\n",
       "<style scoped>\n",
       "    .dataframe tbody tr th:only-of-type {\n",
       "        vertical-align: middle;\n",
       "    }\n",
       "\n",
       "    .dataframe tbody tr th {\n",
       "        vertical-align: top;\n",
       "    }\n",
       "\n",
       "    .dataframe thead th {\n",
       "        text-align: right;\n",
       "    }\n",
       "</style>\n",
       "<table border=\"1\" class=\"dataframe\">\n",
       "  <thead>\n",
       "    <tr style=\"text-align: right;\">\n",
       "      <th></th>\n",
       "      <th>PRECO_MEDIO_M2</th>\n",
       "    </tr>\n",
       "    <tr>\n",
       "      <th>BARRIO</th>\n",
       "      <th></th>\n",
       "    </tr>\n",
       "  </thead>\n",
       "  <tbody>\n",
       "    <tr>\n",
       "      <th>AGRONOMIA</th>\n",
       "      <td>2276.703779</td>\n",
       "    </tr>\n",
       "    <tr>\n",
       "      <th>ALMAGRO</th>\n",
       "      <td>3846.216640</td>\n",
       "    </tr>\n",
       "    <tr>\n",
       "      <th>BALVANERA</th>\n",
       "      <td>5029.747908</td>\n",
       "    </tr>\n",
       "    <tr>\n",
       "      <th>BARRACAS</th>\n",
       "      <td>2817.000357</td>\n",
       "    </tr>\n",
       "    <tr>\n",
       "      <th>BELGRANO</th>\n",
       "      <td>9780.558152</td>\n",
       "    </tr>\n",
       "  </tbody>\n",
       "</table>\n",
       "</div>"
      ],
      "text/plain": [
       "           PRECO_MEDIO_M2\n",
       "BARRIO                   \n",
       "AGRONOMIA     2276.703779\n",
       "ALMAGRO       3846.216640\n",
       "BALVANERA     5029.747908\n",
       "BARRACAS      2817.000357\n",
       "BELGRANO      9780.558152"
      ]
     },
     "execution_count": 10,
     "metadata": {},
     "output_type": "execute_result"
    }
   ],
   "source": [
    "(\n",
    "    df.groupby(\"BARRIO\").agg(\n",
    "        PRECO_MEDIO_M2=(\"PRECIOTEXTM\", \"mean\"),\n",
    "    )\n",
    ").head()"
   ]
  },
  {
   "cell_type": "markdown",
   "metadata": {},
   "source": [
    "## Exercício 5  - agrupar por campos numéricos (decis)\n",
    "\n",
    "Vamos construir os decis da superfície de dados usando o método `qcut` do numpy.\n",
    "\n",
    "Isso associa uma categoria a cada registro de dados, onde o valor dessa categoria indica a qual decil esse registro pertence.\n",
    "\n",
    "Usando o método `groupby`, vamos calcular o preço médio por $m^{2}$ em dólares para cada um dos decis de superfície."
   ]
  },
  {
   "cell_type": "code",
   "execution_count": 34,
   "metadata": {},
   "outputs": [
    {
     "data": {
      "text/plain": [
       "Index(['CALLE', 'NUMERO', 'ID_ZONAPRO', 'OPERACION', 'TIPO', 'M2', 'M2CUB',\n",
       "       'PRECIOTEXT', 'PRECIOARS', 'PRECIOARSM', 'DOLARES', 'U_S_M2',\n",
       "       'AMBIENTES', 'ANTIGUEDAD', 'BAÑOS', 'DIRECCION', 'LOCATION',\n",
       "       'PUBLICADO', 'PROCESADO', 'URL', 'REVISION', 'NOTA',\n",
       "       'DIRECCION_NORMALIZADA', 'BARRIO', 'COMUNA', 'CODIGO_POSTAL',\n",
       "       'CODIGO_POSTAL_ARGENTINO', 'LATITUD', 'LONGITUD', 'PRECIOTEXT_CLEAN',\n",
       "       'PRECIOTEXTM'],\n",
       "      dtype='object')"
      ]
     },
     "execution_count": 34,
     "metadata": {},
     "output_type": "execute_result"
    }
   ],
   "source": [
    "df.columns"
   ]
  },
  {
   "cell_type": "code",
   "execution_count": 37,
   "metadata": {},
   "outputs": [
    {
     "name": "stderr",
     "output_type": "stream",
     "text": [
      "C:\\Users\\levyv\\AppData\\Local\\Temp\\ipykernel_15232\\4129412142.py:6: FutureWarning: The default of observed=False is deprecated and will be changed to True in a future version of pandas. Pass observed=False to retain current behavior or observed=True to adopt the future default and silence this warning.\n",
      "  .groupby(\"CUT\")\n"
     ]
    },
    {
     "data": {
      "text/html": [
       "<div>\n",
       "<style scoped>\n",
       "    .dataframe tbody tr th:only-of-type {\n",
       "        vertical-align: middle;\n",
       "    }\n",
       "\n",
       "    .dataframe tbody tr th {\n",
       "        vertical-align: top;\n",
       "    }\n",
       "\n",
       "    .dataframe thead th {\n",
       "        text-align: right;\n",
       "    }\n",
       "</style>\n",
       "<table border=\"1\" class=\"dataframe\">\n",
       "  <thead>\n",
       "    <tr style=\"text-align: right;\">\n",
       "      <th></th>\n",
       "      <th>PRECO_MEDIO</th>\n",
       "    </tr>\n",
       "    <tr>\n",
       "      <th>CUT</th>\n",
       "      <th></th>\n",
       "    </tr>\n",
       "  </thead>\n",
       "  <tbody>\n",
       "    <tr>\n",
       "      <th>(14.999, 35.0]</th>\n",
       "      <td>4656.265213</td>\n",
       "    </tr>\n",
       "    <tr>\n",
       "      <th>(35.0, 39.0]</th>\n",
       "      <td>4295.471399</td>\n",
       "    </tr>\n",
       "    <tr>\n",
       "      <th>(39.0, 43.0]</th>\n",
       "      <td>3503.865741</td>\n",
       "    </tr>\n",
       "    <tr>\n",
       "      <th>(43.0, 48.0]</th>\n",
       "      <td>3033.866684</td>\n",
       "    </tr>\n",
       "    <tr>\n",
       "      <th>(48.0, 54.0]</th>\n",
       "      <td>3291.493085</td>\n",
       "    </tr>\n",
       "    <tr>\n",
       "      <th>(54.0, 64.0]</th>\n",
       "      <td>3991.766550</td>\n",
       "    </tr>\n",
       "    <tr>\n",
       "      <th>(64.0, 74.0]</th>\n",
       "      <td>4159.138966</td>\n",
       "    </tr>\n",
       "    <tr>\n",
       "      <th>(74.0, 88.0]</th>\n",
       "      <td>4021.144715</td>\n",
       "    </tr>\n",
       "    <tr>\n",
       "      <th>(88.0, 123.0]</th>\n",
       "      <td>4610.250705</td>\n",
       "    </tr>\n",
       "    <tr>\n",
       "      <th>(123.0, 730.0]</th>\n",
       "      <td>5028.567937</td>\n",
       "    </tr>\n",
       "  </tbody>\n",
       "</table>\n",
       "</div>"
      ],
      "text/plain": [
       "                PRECO_MEDIO\n",
       "CUT                        \n",
       "(14.999, 35.0]  4656.265213\n",
       "(35.0, 39.0]    4295.471399\n",
       "(39.0, 43.0]    3503.865741\n",
       "(43.0, 48.0]    3033.866684\n",
       "(48.0, 54.0]    3291.493085\n",
       "(54.0, 64.0]    3991.766550\n",
       "(64.0, 74.0]    4159.138966\n",
       "(74.0, 88.0]    4021.144715\n",
       "(88.0, 123.0]   4610.250705\n",
       "(123.0, 730.0]  5028.567937"
      ]
     },
     "execution_count": 37,
     "metadata": {},
     "output_type": "execute_result"
    }
   ],
   "source": [
    "(df.assign(CUT=pd.qcut(df[\"M2\"], 10)).groupby(\"CUT\").agg(PRECO_MEDIO=(\"PRECIOTEXTM\", \"mean\")))"
   ]
  },
  {
   "cell_type": "markdown",
   "metadata": {},
   "source": [
    "## Exercício 6  - agrupar por campos do tipo string\n",
    "\n",
    "Usando o método `groupby`, vamos calcular o preço médio por $m^{2}$ em dólares para cada um dos bairros da cidade."
   ]
  },
  {
   "cell_type": "code",
   "execution_count": 12,
   "metadata": {},
   "outputs": [
    {
     "data": {
      "text/html": [
       "<div>\n",
       "<style scoped>\n",
       "    .dataframe tbody tr th:only-of-type {\n",
       "        vertical-align: middle;\n",
       "    }\n",
       "\n",
       "    .dataframe tbody tr th {\n",
       "        vertical-align: top;\n",
       "    }\n",
       "\n",
       "    .dataframe thead th {\n",
       "        text-align: right;\n",
       "    }\n",
       "</style>\n",
       "<table border=\"1\" class=\"dataframe\">\n",
       "  <thead>\n",
       "    <tr style=\"text-align: right;\">\n",
       "      <th></th>\n",
       "      <th>PRECO_MEDIO_M2</th>\n",
       "    </tr>\n",
       "    <tr>\n",
       "      <th>BARRIO</th>\n",
       "      <th></th>\n",
       "    </tr>\n",
       "  </thead>\n",
       "  <tbody>\n",
       "    <tr>\n",
       "      <th>AGRONOMIA</th>\n",
       "      <td>2276.703779</td>\n",
       "    </tr>\n",
       "    <tr>\n",
       "      <th>ALMAGRO</th>\n",
       "      <td>3846.216640</td>\n",
       "    </tr>\n",
       "    <tr>\n",
       "      <th>BALVANERA</th>\n",
       "      <td>5029.747908</td>\n",
       "    </tr>\n",
       "    <tr>\n",
       "      <th>BARRACAS</th>\n",
       "      <td>2817.000357</td>\n",
       "    </tr>\n",
       "    <tr>\n",
       "      <th>BELGRANO</th>\n",
       "      <td>9780.558152</td>\n",
       "    </tr>\n",
       "  </tbody>\n",
       "</table>\n",
       "</div>"
      ],
      "text/plain": [
       "           PRECO_MEDIO_M2\n",
       "BARRIO                   \n",
       "AGRONOMIA     2276.703779\n",
       "ALMAGRO       3846.216640\n",
       "BALVANERA     5029.747908\n",
       "BARRACAS      2817.000357\n",
       "BELGRANO      9780.558152"
      ]
     },
     "execution_count": 12,
     "metadata": {},
     "output_type": "execute_result"
    }
   ],
   "source": [
    "(\n",
    "    df.groupby(\"BARRIO\").agg(\n",
    "        PRECO_MEDIO_M2=(\"PRECIOTEXTM\", \"mean\"),\n",
    "    )\n",
    ").head()"
   ]
  },
  {
   "cell_type": "markdown",
   "metadata": {},
   "source": [
    "## Exercício 7 - agrupamento por condições personalizadas\n",
    "\n",
    "Vamos definir uma máscara booleana que é verdadeira para os registros cujo preço em dólares é de até 150.000\n",
    "\n",
    "Vamos agrupar por este critério e calcular o valor da área mediana para esses dois grupos (preço $\\le 150.000$ e preço $ \\lt 150.000$)."
   ]
  },
  {
   "cell_type": "code",
   "execution_count": 39,
   "metadata": {},
   "outputs": [
    {
     "data": {
      "text/html": [
       "<div>\n",
       "<style scoped>\n",
       "    .dataframe tbody tr th:only-of-type {\n",
       "        vertical-align: middle;\n",
       "    }\n",
       "\n",
       "    .dataframe tbody tr th {\n",
       "        vertical-align: top;\n",
       "    }\n",
       "\n",
       "    .dataframe thead th {\n",
       "        text-align: right;\n",
       "    }\n",
       "</style>\n",
       "<table border=\"1\" class=\"dataframe\">\n",
       "  <thead>\n",
       "    <tr style=\"text-align: right;\">\n",
       "      <th></th>\n",
       "      <th>AREA_MEDIANA</th>\n",
       "    </tr>\n",
       "    <tr>\n",
       "      <th>PRECO_ATE_150</th>\n",
       "      <th></th>\n",
       "    </tr>\n",
       "  </thead>\n",
       "  <tbody>\n",
       "    <tr>\n",
       "      <th>False</th>\n",
       "      <td>86.0</td>\n",
       "    </tr>\n",
       "    <tr>\n",
       "      <th>True</th>\n",
       "      <td>43.0</td>\n",
       "    </tr>\n",
       "  </tbody>\n",
       "</table>\n",
       "</div>"
      ],
      "text/plain": [
       "               AREA_MEDIANA\n",
       "PRECO_ATE_150              \n",
       "False                  86.0\n",
       "True                   43.0"
      ]
     },
     "execution_count": 39,
     "metadata": {},
     "output_type": "execute_result"
    }
   ],
   "source": [
    "(df.assign(PRECO_ATE_150=lambda d: d[\"DOLARES\"] < 150000).groupby(\"PRECO_ATE_150\").agg(AREA_MEDIANA=(\"M2\", \"median\")))"
   ]
  }
 ],
 "metadata": {
  "kernelspec": {
   "display_name": "Python 3",
   "language": "python",
   "name": "python3"
  },
  "language_info": {
   "codemirror_mode": {
    "name": "ipython",
    "version": 3
   },
   "file_extension": ".py",
   "mimetype": "text/x-python",
   "name": "python",
   "nbconvert_exporter": "python",
   "pygments_lexer": "ipython3",
   "version": "3.11.8"
  }
 },
 "nbformat": 4,
 "nbformat_minor": 4
}
