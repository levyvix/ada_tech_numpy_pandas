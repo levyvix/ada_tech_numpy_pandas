{
 "cells": [
  {
   "cell_type": "markdown",
   "metadata": {},
   "source": [
    "<img src='letscodebr_cover.jpeg' align='left' width=100%/>"
   ]
  },
  {
   "cell_type": "markdown",
   "metadata": {},
   "source": [
    "# Ada Tech [DS-PY-004] Técnicas de Programação I (PY) Aula 2 : Numoy - Enunciado do Exercício 2."
   ]
  },
  {
   "cell_type": "markdown",
   "metadata": {},
   "source": [
    "Para esse desafio usaremos um resumo do conjunto de dados [Kaggle](https://www.kaggle.com/kyanyoga/sample-sales-data) que contém dados de vendas:"
   ]
  },
  {
   "cell_type": "markdown",
   "metadata": {},
   "source": [
    "## Exercício 1\n",
    "\n",
    "Leia os dados do arquivo `../Data/sales_data_sample_excercise.csv`, que contém alguns dados numéricos e alguns tipos de `string` de caracteres. A amostra contém dados de vendas, informações do pedido, vendas, cliente, remessa, etc., usados para segmentação, análise do cliente, clustering e outros. \n",
    "\n",
    "\n",
    "As colunas são:\n",
    "\n",
    "* `ORDERNUMBER`: `int`, id da orden de pedido\n",
    "\n",
    "* `SALES`: `float`, quantia paga\n",
    "\n",
    "* `MONTH_ID`: `int`, mês\n",
    "\n",
    "* `YEAR_ID`: `int`, ano\n",
    "\n",
    "* `PRODUCTLINE`: `str`, produto\n",
    "\n",
    "* `COUNTRY`: `str`, país de venda\n",
    "\n",
    "Lembre-se de que todos os elementos de uma instância `ndarray` devem ser do mesmo tipo. Portanto, vamos ler o arquivo e criar uma instância de `ndarray` do tipo `string`.\n",
    "\n",
    "O que aconteceria se tentássemos criar uma instância do tipo `int`? E do tipo `float`?"
   ]
  },
  {
   "cell_type": "code",
   "execution_count": 1,
   "metadata": {},
   "outputs": [],
   "source": [
    "import numpy as np"
   ]
  },
  {
   "cell_type": "code",
   "execution_count": 3,
   "metadata": {},
   "outputs": [
    {
     "data": {
      "text/plain": [
       "array([['10107', '2871', '2', '2003', 'Motorcycles', 'USA'],\n",
       "       ['10121', '2765.9', '5', '2003', 'Motorcycles', 'France'],\n",
       "       ['10134', '3884.34', '7', '2003', 'Motorcycles', 'France'],\n",
       "       ...,\n",
       "       ['10386', '5417.57', '3', '2005', 'Ships', 'Spain'],\n",
       "       ['10397', '2116.16', '3', '2005', 'Ships', 'France'],\n",
       "       ['10414', '3079.44', '5', '2005', 'Ships', 'USA']], dtype='<U16')"
      ]
     },
     "execution_count": 3,
     "metadata": {},
     "output_type": "execute_result"
    }
   ],
   "source": [
    "sales_data = np.genfromtxt(\n",
    "    \"Data/sales_data_sample_excercise.csv\", delimiter=\"\\t\", dtype=str, skip_header=1\n",
    ")\n",
    "\n",
    "sales_data\n"
   ]
  },
  {
   "cell_type": "markdown",
   "metadata": {},
   "source": [
    "# Exercício 2 - Tipos\n",
    "\n",
    "Crie um arranjo de [tipo](https://docs.scipy.org/doc/numpy/reference/generated/numpy.ndarray.astype.html) numérico `float` que tenha a coluna `SALES` como valores e outro arranjo de tipo caracteres `str` que tenha a coluna `COUNTRY` como valores."
   ]
  },
  {
   "cell_type": "code",
   "execution_count": 4,
   "metadata": {},
   "outputs": [],
   "source": [
    "order_id = sales_data[:, 0].astype(int)\n",
    "sales = sales_data[:, 1].astype(float)\n",
    "month_id = sales_data[:, 2].astype(int)\n",
    "year_id = sales_data[:, 3].astype(int)\n",
    "product_line = sales_data[:, 4].astype(str)\n",
    "country = sales_data[:, 5].astype(str)"
   ]
  },
  {
   "cell_type": "markdown",
   "metadata": {},
   "source": [
    "## Exercício 3\n",
    "\n",
    "Qual foi o valor mínimo de uma venda? Qual foi o valor máximo?"
   ]
  },
  {
   "cell_type": "code",
   "execution_count": 5,
   "metadata": {},
   "outputs": [
    {
     "data": {
      "text/plain": [
       "482.13"
      ]
     },
     "execution_count": 5,
     "metadata": {},
     "output_type": "execute_result"
    }
   ],
   "source": [
    "np.min(sales)"
   ]
  },
  {
   "cell_type": "markdown",
   "metadata": {},
   "source": [
    "## Exercício 4\n",
    "\n",
    "Quantas vendas foram feitas na Espanha?\n",
    "\n",
    "Dica: indexação booleana."
   ]
  },
  {
   "cell_type": "code",
   "execution_count": 7,
   "metadata": {},
   "outputs": [
    {
     "data": {
      "text/plain": [
       "342"
      ]
     },
     "execution_count": 7,
     "metadata": {},
     "output_type": "execute_result"
    }
   ],
   "source": [
    "(country == \"Spain\").sum()"
   ]
  },
  {
   "cell_type": "markdown",
   "metadata": {},
   "source": [
    "## Exercício 5\n",
    "\n",
    "Qual a porcentagem das vendas realizadas na Espanha?"
   ]
  },
  {
   "cell_type": "code",
   "execution_count": 8,
   "metadata": {},
   "outputs": [
    {
     "data": {
      "text/plain": [
       "0.12114771519659936"
      ]
     },
     "execution_count": 8,
     "metadata": {},
     "output_type": "execute_result"
    }
   ],
   "source": [
    "(country == \"Spain\").sum() / len(country)"
   ]
  },
  {
   "cell_type": "markdown",
   "metadata": {},
   "source": [
    "## Exercício 6\n",
    "\n",
    "Qual é o país do preço máximo de venda? Qual é o `id` dessa venda?\n",
    "\n",
    "Dica: indexação booleana"
   ]
  },
  {
   "cell_type": "code",
   "execution_count": 14,
   "metadata": {},
   "outputs": [
    {
     "data": {
      "text/plain": [
       "array([10407])"
      ]
     },
     "execution_count": 14,
     "metadata": {},
     "output_type": "execute_result"
    }
   ],
   "source": [
    "order_id[sales == sales.max()]"
   ]
  },
  {
   "cell_type": "markdown",
   "metadata": {},
   "source": [
    "## Exercício 7\n",
    "\n",
    "Qual é o preço médio de venda na França? Qual é o desvio padrão?"
   ]
  },
  {
   "cell_type": "code",
   "execution_count": 18,
   "metadata": {},
   "outputs": [
    {
     "name": "stdout",
     "output_type": "stream",
     "text": [
      "media:  3537.9507006369427\n",
      "desvio padrao:  1939.214360481481\n"
     ]
    }
   ],
   "source": [
    "print(\"media: \", sales[country == \"France\"].mean())\n",
    "print(\"desvio padrao: \", sales[country == \"France\"].std())\n"
   ]
  },
  {
   "cell_type": "markdown",
   "metadata": {},
   "source": [
    "## Exercício 8\n",
    "\n",
    "Qual foi o ano de maior desvio padrão nas vendas na França?\n",
    "\n",
    "Dica: Use o atributo [`.unique()`](https://docs.scipy.org/doc/numpy/reference/generated/numpy.unique.html)"
   ]
  },
  {
   "cell_type": "code",
   "execution_count": 25,
   "metadata": {},
   "outputs": [
    {
     "name": "stdout",
     "output_type": "stream",
     "text": [
      "2003 1860.7718844747073\n",
      "2004 1837.8438485766644\n",
      "2005 2241.7723043613423\n"
     ]
    }
   ],
   "source": [
    "france_sales = sales[(country == \"France\")]\n",
    "\n",
    "anos = np.unique(year_id[(country == \"France\")])\n",
    "\n",
    "for ano in anos:\n",
    "    print(ano, france_sales[year_id[(country == \"France\")] == ano].std())"
   ]
  }
 ],
 "metadata": {
  "kernelspec": {
   "display_name": "Python 3",
   "language": "python",
   "name": "python3"
  },
  "language_info": {
   "codemirror_mode": {
    "name": "ipython",
    "version": 3
   },
   "file_extension": ".py",
   "mimetype": "text/x-python",
   "name": "python",
   "nbconvert_exporter": "python",
   "pygments_lexer": "ipython3",
   "version": "3.11.8"
  }
 },
 "nbformat": 4,
 "nbformat_minor": 4
}
